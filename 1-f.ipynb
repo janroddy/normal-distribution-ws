{
 "cells": [
  {
   "cell_type": "markdown",
   "metadata": {},
   "source": [
    "<h1 style= padding:10px>WORKSHEET - NORMAL DISTRIBUTIONS </h1>\n",
    "<h2 style= padding: 20px> 1. For each problem plot the normal curve with shaded area you have to find.  Let z represent a variable following a standard normal distribution. </h2> \n",
    "\n",
    "<h2 style=padding:10px>(f) Find the z-score for the 24th percentile</h2>\n",
    "\n",
    "<div style=\"background-color: #BCDBF5 ; padding: 10px; border: 1px solid;\">\n",
    "<h2>Instructions:</h2>\n",
    "\n",
    "<ol>\n",
    "  <li>Assign z_score to norm.ppf(.24)</li>\n",
    "</ol>\n",
    "\n",
    "</div>"
   ]
  },
  {
   "cell_type": "code",
   "execution_count": 3,
   "metadata": {},
   "outputs": [
    {
     "name": "stdout",
     "output_type": "stream",
     "text": [
      "The z-score ≈ -0.7063\n"
     ]
    },
    {
     "data": {
      "image/png": "[encoded data removed]",
      "text/plain": [
       "<Figure size 720x360 with 1 Axes>"
      ]
     },
     "metadata": {
      "needs_background": "light"
     },
     "output_type": "display_data"
    }
   ],
   "source": [
    "import matplotlib.pyplot as plt\n",
    "import numpy as np\n",
    "from scipy.stats import norm\n",
    "\n",
    "x_min = -5.0\n",
    "x_max = 5.0\n",
    "\n",
    "mean = 0 \n",
    "std_dev = 1.0\n",
    "\n",
    "#calculate the z score with Percent Point Function which is the inverse of normalCDF function\n",
    "#STUDENT PART: assign percentile to 0.24\n",
    "z_score = \n",
    "\n",
    "\n",
    "print ( \"The z-score ≈ \"+ str( round(z_score, 4)) )\n",
    "\n",
    "# Plots normal distribution curve\n",
    "x = np.linspace(x_min, x_max, 200) \n",
    "y = norm.pdf(x, mean, std_dev)\n",
    "plt.plot(x,y, color='purple')\n",
    "plt.grid()\n",
    "plt.xlim(x_min,x_max)\n",
    "plt.ylim(0,.5)\n",
    "\n",
    "# Shades the portion of the plot under the curve \n",
    "start_pt = x_min\n",
    "end_pt = z_score\n",
    "plt.plot([start_pt ,start_pt ],[0.0,norm.pdf(start_pt, mean, std_dev)], color='purple')\n",
    "plt.plot([end_pt ,end_pt ],[0.0,norm.pdf(end_pt, mean, std_dev)], color='purple')\n",
    "\n",
    "ptx = np.linspace(start_pt, end_pt, 200)\n",
    "pty = norm.pdf(ptx,mean,std_dev)\n",
    "\n",
    "plt.fill_between(ptx, pty, color='purple', alpha='1.0')\n",
    "plt.rcParams['figure.figsize'] = [10, 5]\n",
    "plt.show()"
   ]
  },
  {
   "cell_type": "markdown",
   "metadata": {},
   "source": [
    "To go to the next problem click -> [2-a](2-a.ipynb)"
   ]
  },
  {
   "cell_type": "code",
   "execution_count": null,
   "metadata": {},
   "outputs": [],
   "source": []
  }
 ],
 "metadata": {
  "kernelspec": {
   "display_name": "Python 3",
   "language": "python",
   "name": "python3"
  },
  "language_info": {
   "codemirror_mode": {
    "name": "ipython",
    "version": 3
   },
   "file_extension": ".py",
   "mimetype": "text/x-python",
   "name": "python",
   "nbconvert_exporter": "python",
   "pygments_lexer": "ipython3",
   "version": "3.6.2"
  }
 },
 "nbformat": 4,
 "nbformat_minor": 2
}
