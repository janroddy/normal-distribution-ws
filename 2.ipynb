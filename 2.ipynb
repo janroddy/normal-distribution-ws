{
 "cells": [
  {
   "cell_type": "markdown",
   "metadata": {},
   "source": [
    "## 2. Former ISU basketball player Kelvin Cato is 83 inches tall.  Assuming that heights follow approximately a normal distruibution with mean 70 and standard deviation = 3"
   ]
  },
  {
   "cell_type": "markdown",
   "metadata": {},
   "source": [
    "## (a) what is his corresponding z-score? "
   ]
  },
  {
   "cell_type": "markdown",
   "metadata": {},
   "source": [
    "\n",
    "<div style=\"background-color: #BCDBF5 ; padding: 10px;\">\n",
    "<h2>Instructions:</h2>\n",
    "\n",
    "<ol>\n",
    "  <li>Assign z_score to to an expression to calculate Cato's z-score. Don't forget the parenthesis.There is table of Python operators below for your reference.</li>\n",
    "    <li>Run the cell and check your answer to verify that your code is working correctly with a calculator.</li>\n",
    "</ol>\n",
    "\n",
    "</div>\n",
    "\n",
    "<table>\n",
    "  <tr>\n",
    "    <th>Operator</th>\n",
    "    <th>Python Operator</th>\n",
    "    <th>Example</th>\n",
    "  </tr>\n",
    "  <tr>\n",
    "    <td>Addition</td>\n",
    "    <td>+</td>\n",
    "    <td>8 + 8 =16</td>\n",
    "  </tr>\n",
    "  <tr>\n",
    "    <td>Subtraction</td>\n",
    "    <td>-</td>\n",
    "    <td>10 - 5 = 5</td>\n",
    "  </tr>\n",
    "  <tr>\n",
    "    <td>Multiplication</td>\n",
    "    <td>*</td>\n",
    "    <td>8 * 8 = 64</td>\n",
    "  </tr>\n",
    "  <tr>\n",
    "    <td>Division</td>\n",
    "    <td>/</td>\n",
    "    <td>8 / 2 = 2</td>\n",
    "  </tr>\n",
    "  <tr>\n",
    "    <td>Exponent</td>\n",
    "    <td>**</td>\n",
    "    <td>4**2 = 16</td>\n",
    "  </tr>\n",
    "</table>"
   ]
  },
  {
   "cell_type": "code",
   "execution_count": 7,
   "metadata": {},
   "outputs": [
    {
     "ename": "SyntaxError",
     "evalue": "invalid syntax (<ipython-input-7-36c2261127ae>, line 2)",
     "output_type": "error",
     "traceback": [
      "\u001b[0;36m  File \u001b[0;32m\"<ipython-input-7-36c2261127ae>\"\u001b[0;36m, line \u001b[0;32m2\u001b[0m\n\u001b[0;31m    z_score =\u001b[0m\n\u001b[0m              ^\u001b[0m\n\u001b[0;31mSyntaxError\u001b[0m\u001b[0;31m:\u001b[0m invalid syntax\n"
     ]
    }
   ],
   "source": [
    "#Fill out right hand side of z_score assignment\n",
    "z_score = \n",
    "\n",
    "print (\"Cato's z-score = %.2f\" % z_score)"
   ]
  },
  {
   "cell_type": "markdown",
   "metadata": {},
   "source": [
    "## (b) what proportion of men are taller than him? "
   ]
  },
  {
   "cell_type": "markdown",
   "metadata": {},
   "source": [
    "<div style=\"background-color: #BCDBF5 ; padding: 10px\">\n",
    "  <h2>Instructions:</h2>\n",
    "\n",
    "  <ol>\n",
    "    <li>On lines 9 and 10, assign cato's height to the variable cato and the z_score from part a.</li>\n",
    "    <li>On lines 13 and 14, assign the mean and std_dev in the context of the problem.</li>\n",
    "    <li>What is the answer to our question? Does it make sense in the context of the problem? Discuss with a classmate.</li>\n",
    "    <li>What about the plot of the normal curve we produced-does it make sense? </li>\n",
    "  </ol>\n",
    "</div>"
   ]
  },
  {
   "cell_type": "code",
   "execution_count": 8,
   "metadata": {},
   "outputs": [
    {
     "ename": "SyntaxError",
     "evalue": "invalid syntax (<ipython-input-8-f73efb742ac1>, line 9)",
     "output_type": "error",
     "traceback": [
      "\u001b[0;36m  File \u001b[0;32m\"<ipython-input-8-f73efb742ac1>\"\u001b[0;36m, line \u001b[0;32m9\u001b[0m\n\u001b[0;31m    cato =\u001b[0m\n\u001b[0m           ^\u001b[0m\n\u001b[0;31mSyntaxError\u001b[0m\u001b[0;31m:\u001b[0m invalid syntax\n"
     ]
    }
   ],
   "source": [
    "import matplotlib.pyplot as plt\n",
    "import numpy as np\n",
    "from scipy.stats import norm\n",
    "\n",
    "x_min = 55\n",
    "x_max = 85\n",
    "\n",
    "#STUDENT PART: fill in x_min, x_max, z_score, \n",
    "cato = \n",
    "z_score = \n",
    "\n",
    "#STUDENT PART: fill in mean and std_dev \n",
    "mean = \n",
    "std_dev = \n",
    "\n",
    "#calculate the proportion here \n",
    "prop_lower = norm.cdf(z_score,0,1) \n",
    "proportion =  1 - prop_lower\n",
    "\n",
    "#output probability  to the console \n",
    "print ( \"The proportion of men taller than Cato is \" + str(proportion))\n",
    "\n",
    "\n",
    "# Plots normal distribution curve\n",
    "x = np.linspace(x_min, x_max, 200) \n",
    "y = norm.pdf(x, mean, std_dev)\n",
    "plt.plot(x,y, color='purple')\n",
    "plt.grid()\n",
    "plt.xlim(x_min,x_max)\n",
    "plt.ylim(0,.15)\n",
    "\n",
    "\n",
    "# Shades the portion of the plot under the curve \n",
    "start_pt = cato \n",
    "end_pt = x_max\n",
    "\n",
    "plt.plot([start_pt ,start_pt ],[0.0,norm.pdf(start_pt, mean, std_dev)], color='purple')\n",
    "plt.plot([end_pt ,end_pt ],[0.0,norm.pdf(end_pt, mean, std_dev)], color='purple')\n",
    "\n",
    "ptx = np.linspace(start_pt, end_pt, 200)\n",
    "pty = norm.pdf(ptx,mean,std_dev)\n",
    "\n",
    "plt.fill_between(ptx, pty, color='blue', alpha='1.0')\n",
    "plt.rcParams['figure.figsize'] = [10, 5]\n",
    "plt.show()"
   ]
  },
  {
   "cell_type": "markdown",
   "metadata": {},
   "source": [
    "\n",
    "<div align=\"right\" style=\"font-size: 20px\">To go to the next problem click -> <a href='3.ipynb' style=\"background-color: #a1e3a1 ; padding: 2px;color:black;font-size: 20px\">Next</a></div> \n"
   ]
  },
  {
   "cell_type": "code",
   "execution_count": null,
   "metadata": {},
   "outputs": [],
   "source": []
  }
 ],
 "metadata": {
  "kernelspec": {
   "display_name": "Python 3",
   "language": "python",
   "name": "python3"
  },
  "language_info": {
   "codemirror_mode": {
    "name": "ipython",
    "version": 3
   },
   "file_extension": ".py",
   "mimetype": "text/x-python",
   "name": "python",
   "nbconvert_exporter": "python",
   "pygments_lexer": "ipython3",
   "version": "3.6.2"
  }
 },
 "nbformat": 4,
 "nbformat_minor": 2
}
