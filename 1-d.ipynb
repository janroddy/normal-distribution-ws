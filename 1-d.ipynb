{
 "cells": [
  {
   "cell_type": "markdown",
   "metadata": {},
   "source": [
    "# WORKSHEET - NORMAL DISTRIBUTIONS \n",
    "\n",
    "## 1. For each problem plot the normal curve with shaded area you have to find.  Let z represent a variable following a standard normal distribution. \n",
    "\n"
   ]
  },
  {
   "cell_type": "markdown",
   "metadata": {},
   "source": [
    "## (d) Find the z-score for the 64th percentile "
   ]
  },
  {
   "cell_type": "markdown",
   "metadata": {},
   "source": [
    "## Instructions: "
   ]
  },
  {
   "cell_type": "code",
   "execution_count": null,
   "metadata": {},
   "outputs": [],
   "source": [
    "import matplotlib.pyplot as plt\n",
    "import numpy as np\n",
    "from scipy.stats import norm\n",
    "\n",
    "x_min = -5.0\n",
    "x_max = 5.0\n",
    "\n",
    "#z represents a variable following a standard normal distribution \n",
    "#STUDENT PART: assign z_lower's value to x_min and set z_upper value \n",
    "z_lower = x_min\n",
    "z_upper = 0.7\n",
    " \n",
    "mean = 0 \n",
    "std_dev = 1.0\n",
    "\n",
    "#calculate the z score with Percent Point Function which is the inverse of normalCDF function\n",
    "#STUDENT PART: assign percentile to 0.64\n",
    "percentile = 0.64\n",
    "z_score = norm.ppf(percentile)\n",
    "\n",
    "print ( \"The z-score ≈ \"+ str( round(z_score, 4)) )\n",
    "\n",
    "# Plots normal distribution curve\n",
    "x = np.linspace(x_min, x_max, 200) \n",
    "y = norm.pdf(x, mean, std_dev)\n",
    "plt.plot(x,y, color='purple')\n",
    "plt.grid()\n",
    "plt.xlim(x_min,x_max)\n",
    "plt.ylim(0,.5)\n",
    "\n",
    "# Shades the portion of the plot under the curve \n",
    "start_pt = z_lower\n",
    "end_pt = z_upper\n",
    "\n",
    "plt.plot([start_pt ,start_pt ],[0.0,norm.pdf(start_pt, mean, std_dev)], color='purple')\n",
    "plt.plot([end_pt ,end_pt ],[0.0,norm.pdf(end_pt, mean, std_dev)], color='purple')\n",
    "\n",
    "ptx = np.linspace(start_pt, end_pt, 200)\n",
    "pty = norm.pdf(ptx,mean,std_dev)\n",
    "plt.fill_between(ptx, pty, color='purple', alpha='1.0')\n",
    "\n",
    "plt.rcParams['figure.figsize'] = [10, 5]\n",
    "plt.show()"
   ]
  }
 ],
 "metadata": {
  "kernelspec": {
   "display_name": "virt-env",
   "language": "python",
   "name": "virt-env"
  },
  "language_info": {
   "codemirror_mode": {
    "name": "ipython",
    "version": 3
   },
   "file_extension": ".py",
   "mimetype": "text/x-python",
   "name": "python",
   "nbconvert_exporter": "python",
   "pygments_lexer": "ipython3",
   "version": "3.7.4"
  }
 },
 "nbformat": 4,
 "nbformat_minor": 2
}
