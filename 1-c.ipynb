{
 "cells": [
  {
   "cell_type": "markdown",
   "metadata": {},
   "source": [
    "<h1 style= padding:10px>WORKSHEET - NORMAL DISTRIBUTIONS </h1>\n",
    "<h2 style= padding: 20px> 1. For each problem plot the normal curve with shaded area you have to find.  Let z represent a variable following a standard normal distribution. </h2> \n",
    "\n",
    "<h2 style=padding:10px>(c) Find the proportion that is greater than z=1.86</h2>\n",
    "\n",
    "<div style=\"background-color: #BCDBF5 ; padding: 10px; border: 1px solid;\">\n",
    "<h2>Instructions:</h2>\n",
    "\n",
    "<ol>\n",
    "  <li>Assign z_lower and z_upper values.  For z_upper we will use or x_max value of 5.0.  </li>\n",
    "  <li>On line 20 calculate proportion for the interval of interesr (hint: look at part 1(b)'s code if you are stuck)</li>\n",
    "  <li>Run the cell to see the plot and proportion </li>\n",
    "</ol>\n",
    "\n",
    "</div>"
   ]
  },
  {
   "cell_type": "code",
   "execution_count": 1,
   "metadata": {},
   "outputs": [
    {
     "ename": "SyntaxError",
     "evalue": "invalid syntax (<ipython-input-1-b15ea172b137>, line 10)",
     "output_type": "error",
     "traceback": [
      "\u001b[0;36m  File \u001b[0;32m\"<ipython-input-1-b15ea172b137>\"\u001b[0;36m, line \u001b[0;32m10\u001b[0m\n\u001b[0;31m    z_lower =\u001b[0m\n\u001b[0m              ^\u001b[0m\n\u001b[0;31mSyntaxError\u001b[0m\u001b[0;31m:\u001b[0m invalid syntax\n"
     ]
    }
   ],
   "source": [
    "import matplotlib.pyplot as plt\n",
    "import numpy as np\n",
    "from scipy.stats import norm\n",
    "\n",
    "x_min = -5.0\n",
    "x_max = 5.0\n",
    "\n",
    "#z represents a variable following a standard normal distribution \n",
    "#STUDENT PART: assign z_lower's value and set z_upper to x_max \n",
    "z_lower = \n",
    "z_upper = \n",
    " \n",
    "mean = 0 \n",
    "std_dev = 1.0\n",
    "\n",
    "#calculate the proportion with the normalcdf function of the interval of interest\n",
    "prop_lower = norm.cdf(z_lower,mean,std_dev) \n",
    "prop_upper = norm.cdf(z_upper,mean,std_dev)\n",
    "#STUDENT PART: calculate proportion (hint: look at part 1(b)) \n",
    "proportion = prop_upper - prop_lower\n",
    "#output proportion to the console \n",
    "print (\"The proportion that is greater than z = \"+ str(z_lower) + \" is approximatley \" + str(round(proportion, 4)))\n",
    "\n",
    "# Plots normal distribution curve\n",
    "x = np.linspace(x_min, x_max, 200) \n",
    "y = norm.pdf(x, mean, std_dev)\n",
    "plt.plot(x,y, color='purple')\n",
    "plt.grid()\n",
    "plt.xlim(x_min,x_max)\n",
    "plt.ylim(0,.5)\n",
    "\n",
    "\n",
    "# Shades the portion of the plot under the curve \n",
    "start_pt = z_lower\n",
    "end_pt = z_upper\n",
    "\n",
    "plt.plot([start_pt ,start_pt ],[0.0,norm.pdf(start_pt, mean, std_dev)], color='purple')\n",
    "plt.plot([end_pt ,end_pt ],[0.0,norm.pdf(end_pt, mean, std_dev)], color='purple')\n",
    "\n",
    "ptx = np.linspace(start_pt, end_pt, 200)\n",
    "pty = norm.pdf(ptx,mean,std_dev)\n",
    "\n",
    "plt.fill_between(ptx, pty, color='purple', alpha='1.0')\n",
    "\n",
    "plt.show()"
   ]
  },
  {
   "cell_type": "markdown",
   "metadata": {},
   "source": [
    "To go to the next problem click -> [1-d](1-d.ipynb)"
   ]
  },
  {
   "cell_type": "code",
   "execution_count": null,
   "metadata": {},
   "outputs": [],
   "source": []
  }
 ],
 "metadata": {
  "kernelspec": {
   "display_name": "virt-env",
   "language": "python",
   "name": "virt-env"
  },
  "language_info": {
   "codemirror_mode": {
    "name": "ipython",
    "version": 3
   },
   "file_extension": ".py",
   "mimetype": "text/x-python",
   "name": "python",
   "nbconvert_exporter": "python",
   "pygments_lexer": "ipython3",
   "version": "3.7.4"
  }
 },
 "nbformat": 4,
 "nbformat_minor": 2
}
