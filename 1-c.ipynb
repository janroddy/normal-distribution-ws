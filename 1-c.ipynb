{
 "cells": [
  {
   "cell_type": "markdown",
   "metadata": {},
   "source": [
    "# WORKSHEET - NORMAL DISTRIBUTIONS \n",
    "\n",
    "## 1. For each problem plot the normal curve with shaded area you have to find.  Let z represent a variable following a standard normal distribution. "
   ]
  },
  {
   "cell_type": "markdown",
   "metadata": {},
   "source": [
    "## (c) Find the proportion that is greater than z=1.86\n",
    "## Instructions: \n",
    "1. Assign z_lower and z_upper values.  For z_upper we will use or x_max value of 5.0.   \n",
    "2. On line 20 calculate proportion for the interval of interesr (hint: look at part 1(b)'s code if you are stuck)\n",
    "3. Run the cell to see the plot and proportion "
   ]
  },
  {
   "cell_type": "code",
   "execution_count": null,
   "metadata": {},
   "outputs": [],
   "source": [
    "import matplotlib.pyplot as plt\n",
    "import numpy as np\n",
    "from scipy.stats import norm\n",
    "\n",
    "x_min = -5.0\n",
    "x_max = 5.0\n",
    "\n",
    "#z represents a variable following a standard normal distribution \n",
    "#STUDENT PART: assign z_lower's value and set z_upper to x_max \n",
    "z_lower = \n",
    "z_upper = \n",
    " \n",
    "mean = 0 \n",
    "std_dev = 1.0\n",
    "\n",
    "#calculate the proportion with the normalcdf function of the interval of interest\n",
    "prop_lower = norm.cdf(z_lower,mean,std_dev) \n",
    "prop_upper = norm.cdf(z_upper,mean,std_dev)\n",
    "#STUDENT PART: calculate proportion (hint: look at part 1(b)) \n",
    "proportion = prop_upper - prop_lower\n",
    "#output proportion to the console \n",
    "print (\"The proportion that is greater than z = \"+ str(z_lower) + \" is approximatley \" + str(round(proportion, 4)))\n",
    "\n",
    "# Plots normal distribution curve\n",
    "x = np.linspace(x_min, x_max, 200) \n",
    "y = norm.pdf(x, mean, std_dev)\n",
    "plt.plot(x,y, color='purple')\n",
    "plt.grid()\n",
    "plt.xlim(x_min,x_max)\n",
    "plt.ylim(0,.5)\n",
    "\n",
    "\n",
    "# Shades the portion of the plot under the curve \n",
    "start_pt = z_lower\n",
    "end_pt = z_upper\n",
    "\n",
    "plt.plot([start_pt ,start_pt ],[0.0,norm.pdf(start_pt, mean, std_dev)], color='purple')\n",
    "plt.plot([end_pt ,end_pt ],[0.0,norm.pdf(end_pt, mean, std_dev)], color='purple')\n",
    "\n",
    "ptx = np.linspace(start_pt, end_pt, 200)\n",
    "pty = norm.pdf(ptx,mean,std_dev)\n",
    "\n",
    "plt.fill_between(ptx, pty, color='purple', alpha='1.0')\n",
    "\n",
    "plt.show()"
   ]
  }
 ],
 "metadata": {
  "kernelspec": {
   "display_name": "virt-env",
   "language": "python",
   "name": "virt-env"
  },
  "language_info": {
   "codemirror_mode": {
    "name": "ipython",
    "version": 3
   },
   "file_extension": ".py",
   "mimetype": "text/x-python",
   "name": "python",
   "nbconvert_exporter": "python",
   "pygments_lexer": "ipython3",
   "version": "3.7.4"
  }
 },
 "nbformat": 4,
 "nbformat_minor": 2
}
