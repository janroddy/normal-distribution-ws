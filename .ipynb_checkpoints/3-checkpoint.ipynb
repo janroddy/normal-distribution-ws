{
 "cells": [
  {
   "cell_type": "markdown",
   "metadata": {},
   "source": [
    "\n",
    "## 3. Since the length of a downhill ski is related to the height of the individuals renting them, it is fair to assume that a normal distribution would describe the length of women’s skis at rental outlets in Colorado.  The mean of the distribution is 150 cm and the standard deviation is 10 cm. \n",
    "## (a) What is the proportion of women’s ski lengths that are less than 130 cm? "
   ]
  },
  {
   "cell_type": "markdown",
   "metadata": {},
   "source": [
    "<div style=\"background-color: #BCDBF5 ; padding: 10px\">\n",
    "  <h2>Instructions:</h2>\n",
    "\n",
    "  <ol>\n",
    "    <li>Calculate z_score on line 6.</li>\n",
    "    <li>Assign mean and std_dev on lines 14 and 15.</li>\n",
    "    <li>On line 18, fill in the parameters of norm.cdf() function </li>\n",
    "    <li>Check your answer with a classmate and your calculator if you are unsure.</li>\n",
    "  </ol>\n",
    "</div>\n"
   ]
  },
  {
   "cell_type": "code",
   "execution_count": 4,
   "metadata": {},
   "outputs": [
    {
     "ename": "SyntaxError",
     "evalue": "invalid syntax (<ipython-input-4-bcfdbd8e7141>, line 14)",
     "output_type": "error",
     "traceback": [
      "\u001b[0;36m  File \u001b[0;32m\"<ipython-input-4-bcfdbd8e7141>\"\u001b[0;36m, line \u001b[0;32m14\u001b[0m\n\u001b[0;31m    mean =\u001b[0m\n\u001b[0m           ^\u001b[0m\n\u001b[0;31mSyntaxError\u001b[0m\u001b[0;31m:\u001b[0m invalid syntax\n"
     ]
    }
   ],
   "source": [
    "import matplotlib.pyplot as plt\n",
    "import numpy as np\n",
    "from scipy.stats import norm\n",
    "\n",
    "#STUDENT PART \n",
    "z_score = \n",
    "\n",
    "print (\"z = %.2f\" % z_score)\n",
    "\n",
    "x_min = 120\n",
    "x_max = 180\n",
    "\n",
    "#STUDENT PART  \n",
    "mean = \n",
    "std_dev =\n",
    "\n",
    "#calculate the proportion here \n",
    "#The python norm.cdf() function takes 3 arguments: z_score, mean, and standard deviation\n",
    "proportion = norm.cdf() \n",
    "\n",
    "#output probability  to the console \n",
    "print ( \"The proportion of women's ski lengths less than 130 cm is %.3f\" % proportion)\n",
    "\n",
    "\n",
    "# Plots normal distribution curve\n",
    "x = np.linspace(x_min, x_max, 200) \n",
    "y = norm.pdf(x, mean, std_dev)\n",
    "plt.plot(x,y, color='purple')\n",
    "plt.grid()\n",
    "plt.xlim(x_min,x_max)\n",
    "plt.ylim(0,.045)\n",
    "\n",
    "\n",
    "# Shades the portion of the plot under the curve \n",
    "start_pt = x_min \n",
    "end_pt = 130\n",
    "\n",
    "plt.plot([start_pt ,start_pt ],[0.0,norm.pdf(start_pt, mean, std_dev)], color='purple')\n",
    "plt.plot([end_pt ,end_pt ],[0.0,norm.pdf(end_pt, mean, std_dev)], color='purple')\n",
    "\n",
    "ptx = np.linspace(start_pt, end_pt, 200)\n",
    "pty = norm.pdf(ptx,mean,std_dev)\n",
    "\n",
    "plt.fill_between(ptx, pty, color='purple', alpha='1.0')\n",
    "plt.rcParams['figure.figsize'] = [10, 5]\n",
    "plt.show()"
   ]
  },
  {
   "cell_type": "markdown",
   "metadata": {},
   "source": [
    "## (b) What is the proportion of women's ski lengths that are greater than 125 cm? "
   ]
  },
  {
   "cell_type": "markdown",
   "metadata": {},
   "source": [
    "<div style=\"background-color: #BCDBF5 ; padding: 10px\">\n",
    "  <h2>Instructions:</h2>\n",
    "\n",
    "  <ol>\n",
    "    <li>Calculate z_score on line 6.</li>\n",
    "    <li>Assign mean and std_dev on line 14 and 15.</li>\n",
    "    <li>Fill in the parameters for the norm.cdf() function on line 18 to calculate the proportion.</li>\n",
    "  </ol>\n",
    "</div>\n"
   ]
  },
  {
   "cell_type": "code",
   "execution_count": 1,
   "metadata": {},
   "outputs": [
    {
     "ename": "SyntaxError",
     "evalue": "invalid syntax (<ipython-input-1-a184b9e267c0>, line 6)",
     "output_type": "error",
     "traceback": [
      "\u001b[0;36m  File \u001b[0;32m\"<ipython-input-1-a184b9e267c0>\"\u001b[0;36m, line \u001b[0;32m6\u001b[0m\n\u001b[0;31m    z_score =\u001b[0m\n\u001b[0m              ^\u001b[0m\n\u001b[0;31mSyntaxError\u001b[0m\u001b[0;31m:\u001b[0m invalid syntax\n"
     ]
    }
   ],
   "source": [
    "import matplotlib.pyplot as plt\n",
    "import numpy as np\n",
    "from scipy.stats import norm\n",
    "\n",
    "#Fill out right hand side \n",
    "z_score = \n",
    "\n",
    "print (\"z = %.2f\" % z_score)\n",
    "\n",
    "x_min = 120\n",
    "x_max = 180\n",
    "\n",
    "#STUDENT PART  \n",
    "mean = \n",
    "std_dev = \n",
    "\n",
    "#calculate the proportion here \n",
    "proportion = norm.cdf() \n",
    "proportion = 1 - proportion\n",
    "\n",
    "\n",
    "#output probability  to the console \n",
    "print ( \"The proportion of women's ski lengths that are greater than 125cm is %.3f\" % proportion)\n",
    "\n",
    "\n",
    "# Plots normal distribution curve\n",
    "x = np.linspace(x_min, x_max, 200) \n",
    "y = norm.pdf(x, mean, std_dev)\n",
    "plt.plot(x,y, color='purple')\n",
    "plt.grid()\n",
    "plt.xlim(x_min,x_max)\n",
    "plt.ylim(0,.045)\n",
    "\n",
    "\n",
    "# Shades the portion of the plot under the curve STUDENT PART\n",
    "start_pt = 125\n",
    "end_pt = x_max\n",
    "\n",
    "plt.plot([start_pt ,start_pt ],[0.0,norm.pdf(start_pt, mean, std_dev)], color='purple')\n",
    "plt.plot([end_pt ,end_pt ],[0.0,norm.pdf(end_pt, mean, std_dev)], color='purple')\n",
    "\n",
    "ptx = np.linspace(start_pt, end_pt, 200)\n",
    "pty = norm.pdf(ptx,mean,std_dev)\n",
    "\n",
    "plt.fill_between(ptx, pty, color='purple', alpha='1.0')\n",
    "plt.rcParams['figure.figsize'] = [10, 5]\n",
    "plt.show()"
   ]
  },
  {
   "cell_type": "markdown",
   "metadata": {},
   "source": [
    "## (c) What is the proportion of women's ski lengths that are between 125 and 155? "
   ]
  },
  {
   "cell_type": "markdown",
   "metadata": {},
   "source": [
    "<div style=\"background-color: #BCDBF5 ; padding: 10px\">\n",
    "  <h2>Instructions:</h2>\n",
    "\n",
    "  <ol>\n",
    "    <li>Calculate z_score on line 6.</li>\n",
    "    <li>Assign mean and std_dev on line 14 and 15.</li>\n",
    "  </ol>\n",
    "</div>\n"
   ]
  },
  {
   "cell_type": "code",
   "execution_count": 9,
   "metadata": {},
   "outputs": [
    {
     "name": "stdout",
     "output_type": "stream",
     "text": [
      "z = 0.50\n",
      "The proportion of women's ski lengths that are greater than 125cm is 0.6853\n"
     ]
    },
    {
     "data": {
      "image/png": "[encoded data removed]",
      "text/plain": [
       "<Figure size 720x360 with 1 Axes>"
      ]
     },
     "metadata": {
      "needs_background": "light"
     },
     "output_type": "display_data"
    }
   ],
   "source": [
    "import matplotlib.pyplot as plt\n",
    "import numpy as np\n",
    "from scipy.stats import norm\n",
    "\n",
    "#Fill out right hand side \n",
    "z_score =\n",
    "\n",
    "print (\"z = %.2f\" % z_score)\n",
    "\n",
    "x_min = 120\n",
    "x_max = 180\n",
    "\n",
    "#STUDENT PART  \n",
    "mean =  \n",
    "std_dev = \n",
    "\n",
    "#calculate the proportion here \n",
    "proportion = norm.cdf(z_score,0,1) \n",
    "proportion = proportion - norm.cdf(-2.5,0,1)\n",
    "\n",
    "\n",
    "#output probability  to the console \n",
    "print ( \"The proportion of women's ski lengths that are greater than 125cm is %.4f\" % proportion)\n",
    "\n",
    "\n",
    "# Plots normal distribution curve\n",
    "x = np.linspace(x_min, x_max, 200) \n",
    "y = norm.pdf(x, mean, std_dev)\n",
    "plt.plot(x,y, color='purple')\n",
    "plt.grid()\n",
    "plt.xlim(x_min,x_max)\n",
    "plt.ylim(0,.045)\n",
    "\n",
    "\n",
    "# Shades the portion of the plot under the curve STUDENT PART\n",
    "start_pt = 125\n",
    "end_pt = 155\n",
    "\n",
    "plt.plot([start_pt ,start_pt ],[0.0,norm.pdf(start_pt, mean, std_dev)], color='purple')\n",
    "plt.plot([end_pt ,end_pt ],[0.0,norm.pdf(end_pt, mean, std_dev)], color='purple')\n",
    "\n",
    "ptx = np.linspace(start_pt, end_pt, 200)\n",
    "pty = norm.pdf(ptx,mean,std_dev)\n",
    "\n",
    "plt.fill_between(ptx, pty, color='purple', alpha='1.0')\n",
    "plt.rcParams['figure.figsize'] = [10, 5]\n",
    "plt.show()"
   ]
  },
  {
   "cell_type": "markdown",
   "metadata": {},
   "source": [
    "## (d) Very long skies are expensive and there are not many people who rent them.  What is the longest women's ski a rental shop should carry so that only 2 percent of the costumers will ask to rent a longer ski? "
   ]
  },
  {
   "cell_type": "markdown",
   "metadata": {},
   "source": [
    "<div style=\"background-color: #BCDBF5 ; padding: 10px\">\n",
    "  <h2>Instructions:</h2>\n",
    "\n",
    "  <ol>\n",
    "    <li>Calculate z_score on line 12.</li>\n",
    "    <li>Fill in the argument for norm.ppf() function on line 12</li>\n",
    "    <li>Fill in the parameters for the norm.cdf() function on line 18 to calculate the proportion.</li>\n",
    "    <li>Solve for x-length using z_score, std_dev and mean on line 18.</li>\n",
    "  </ol>\n",
    "</div>\n"
   ]
  },
  {
   "cell_type": "code",
   "execution_count": 11,
   "metadata": {},
   "outputs": [
    {
     "name": "stdout",
     "output_type": "stream",
     "text": [
      "The z-score is 2.05\n",
      "The longest women's ski the rental shop should carry is 170.5 cm\n"
     ]
    },
    {
     "data": {
      "image/png": "[encoded data removed]",
      "text/plain": [
       "<Figure size 720x360 with 1 Axes>"
      ]
     },
     "metadata": {
      "needs_background": "light"
     },
     "output_type": "display_data"
    }
   ],
   "source": [
    "import matplotlib.pyplot as plt\n",
    "import numpy as np\n",
    "from scipy.stats import norm\n",
    "\n",
    "x_min = 120\n",
    "x_max = 180\n",
    "\n",
    "mean = 150.0\n",
    "std_dev = 10.0\n",
    "\n",
    "#calculate the z-score here STUDENT PART\n",
    "z_score = norm.ppf(.98) # (.98)\n",
    "\n",
    "#output z-score to the console \n",
    "print ( \"The z-score is %.2f\" % z_score)\n",
    "\n",
    "#student solves for x_length STUDENT PART\n",
    "x_length = #(z_score * std_dev) + mean \n",
    "\n",
    "print (\"The longest women's ski the rental shop should carry is %.1f cm\" % x_length)\n",
    "\n",
    "\n",
    "# Plots normal distribution curve\n",
    "x = np.linspace(x_min, x_max, 200) \n",
    "y = norm.pdf(x, mean, std_dev)\n",
    "plt.plot(x,y, color='purple')\n",
    "plt.grid()\n",
    "plt.xlim(x_min,x_max)\n",
    "plt.ylim(0,.045)\n",
    "\n",
    "\n",
    "# Shades the portion of the plot under the curve STUDENT PART\n",
    "start_pt = int(x_length)\n",
    "end_pt = x_max\n",
    "\n",
    "plt.plot([start_pt ,start_pt ],[0.0,norm.pdf(start_pt, mean, std_dev)], color='purple')\n",
    "plt.plot([end_pt ,end_pt ],[0.0,norm.pdf(end_pt, mean, std_dev)], color='purple')\n",
    "\n",
    "ptx = np.linspace(start_pt, end_pt, 200)\n",
    "pty = norm.pdf(ptx,mean,std_dev)\n",
    "\n",
    "plt.fill_between(ptx, pty, color='purple', alpha='1.0')\n",
    "plt.rcParams['figure.figsize'] = [10, 5]\n",
    "plt.show()"
   ]
  },
  {
   "cell_type": "code",
   "execution_count": null,
   "metadata": {},
   "outputs": [],
   "source": []
  },
  {
   "cell_type": "markdown",
   "metadata": {},
   "source": [
    "<div align=\"right\" style=\"font-size: 20px\">To go to the next problem click -> <a href='4.ipynb' style=\"background-color: #a1e3a1 ; padding: 2px;color:black;font-size: 20px\">Next</a></div> "
   ]
  },
  {
   "cell_type": "code",
   "execution_count": null,
   "metadata": {},
   "outputs": [],
   "source": []
  }
 ],
 "metadata": {
  "kernelspec": {
   "display_name": "Python 3",
   "language": "python",
   "name": "python3"
  },
  "language_info": {
   "codemirror_mode": {
    "name": "ipython",
    "version": 3
   },
   "file_extension": ".py",
   "mimetype": "text/x-python",
   "name": "python",
   "nbconvert_exporter": "python",
   "pygments_lexer": "ipython3",
   "version": "3.6.2"
  }
 },
 "nbformat": 4,
 "nbformat_minor": 2
}
