{
 "cells": [
  {
   "cell_type": "markdown",
   "metadata": {
    "deletable": false
   },
   "source": [
    "# WORKSHEET - NORMAL DISTRIBUTIONS \n",
    "\n",
    "## 1. For each problem plot the normal curve with shaded area you have to find.  Let z represent a variable following a standard normal distribution. \n",
    "\n"
   ]
  },
  {
   "cell_type": "markdown",
   "metadata": {},
   "source": [
    "\n",
    "## Instructions: \n",
    "1. This box is a called a cell, double click on this cell and click on the Run button (located in the toolbar at the top of the page). \n",
    "2. These instruction cells will tell you what to do in the following python code cells. Run the next cell following this one and see what happens. \n",
    "3. Change the text within the quotes (\"\") part of the cell to \"Hello Python\" and see what happens when you run the cell again.  This is called a print statement in Python and it outputs text to the console. We will be using print statements to output our answers in this worksheet.\n",
    "4. Click into the cell starts with (a) to continue"
   ]
  },
  {
   "cell_type": "code",
   "execution_count": 8,
   "metadata": {
    "scrolled": true
   },
   "outputs": [
    {
     "name": "stdout",
     "output_type": "stream",
     "text": [
      "Hello Distributions\n"
     ]
    }
   ],
   "source": [
    "print (\"Hello Distributions\")"
   ]
  },
  {
   "cell_type": "markdown",
   "metadata": {
    "deletable": false
   },
   "source": [
    "## (a) Find the proportion that is less than z=2.00\n",
    "##  Instructions: \n",
    "1. Run the next cell (the one with the python code in it right below this cell) by clicking on the cell and then clicking on the Run button at the top of the page\n",
    "2. Scroll to the bottom of the cell and see the output of the code and plot produced.  \n",
    "3. Reread the question we are answering and think about how the output answers our question\n",
    "4. Discuss with your partner what the output looks like and how it answers the question you were asked\n",
    "5. Go to the next cell of instructions starting with \"Let's try (a) Again\""
   ]
  },
  {
   "cell_type": "code",
   "execution_count": 2,
   "metadata": {
    "scrolled": true
   },
   "outputs": [
    {
     "name": "stdout",
     "output_type": "stream",
     "text": [
      "The proportion that is less than z = 2.0 is approximatley 0.9772\n"
     ]
    },
    {
     "data": {
      "image/png": "[encoded data removed]",
      "text/plain": [
       "<Figure size 432x288 with 1 Axes>"
      ]
     },
     "metadata": {
      "needs_background": "light"
     },
     "output_type": "display_data"
    }
   ],
   "source": [
    "import matplotlib.pyplot as plt\n",
    "import numpy as np\n",
    "from scipy.stats import norm\n",
    "\n",
    "\n",
    "x_min = -5.0\n",
    "x_max = 5.0\n",
    "\n",
    "#z represents a variable following a standard normal distribution\n",
    "#here we assign a variable z's value to 2.00. \n",
    "z = 2.00\n",
    "\n",
    "mean = 0 \n",
    "std_dev = 1.0\n",
    "\n",
    "#calculate the proportion with the normalcdf function\n",
    "proportion = norm.cdf(z,mean,std_dev) \n",
    "#output proportion to the console \n",
    "print ( \"The proportion that is less than z = \"+ str(z) + \" is approximatley \" + str( round(proportion, 4) ) )\n",
    "\n",
    "# Plots normal distribution curve\n",
    "x = np.linspace(x_min, x_max, 200) \n",
    "y = norm.pdf(x, mean, std_dev)\n",
    "plt.plot(x,y, color='purple')\n",
    "plt.grid()\n",
    "plt.xlim(x_min,x_max)\n",
    "plt.ylim(0,.5)\n",
    "\n",
    "\n",
    "# Shades the portion of the plot under the curve \n",
    "start_pt = x_min\n",
    "end_pt = z\n",
    "\n",
    "plt.plot([start_pt ,start_pt ],[0.0,norm.pdf(start_pt, mean, std_dev)], color='purple')\n",
    "plt.plot([end_pt ,end_pt ],[0.0,norm.pdf(end_pt, mean, std_dev)], color='purple')\n",
    "\n",
    "ptx = np.linspace(start_pt, end_pt, 200)\n",
    "pty = norm.pdf(ptx,mean,std_dev)\n",
    "\n",
    "plt.fill_between(ptx, pty, color='purple', alpha='1.0')\n",
    "\n",
    "plt.show()"
   ]
  },
  {
   "cell_type": "markdown",
   "metadata": {},
   "source": [
    "## Lets try (a) Again:\n",
    "## (a) Find the proportion that is less than z=2.00\n",
    "##  Instructions: \n",
    "1. This time we are going to look at the same question again and also take a look at the python code we are running. \n",
    "2. Run the cell below these instructions.\n",
    "3. Scroll to the bottom of the cell and read the output of the console.  This is called an error message and it is telling you that the python interpretor can't process the code.  \n",
    "4. Let's fix it! Go to line 11 in the python code cell and change the line \"z = \"to \"z = 2.0\" (Note: Don't write the quotes)\n",
    "5. After making the change run the cell again and see what happens. \n",
    "6. We just assigned our variable z to equal 2.0.  A variable can be thought of as container (z) storing a value (2.0).  \n",
    "7. We can now use z when we calculate the proportion with our cdf function.  Take a look at line 17 where we calculate the proportion. \n",
    "8.  Discuss with your partner what you see and where we are using our variable z\n"
   ]
  },
  {
   "cell_type": "code",
   "execution_count": 10,
   "metadata": {},
   "outputs": [
    {
     "ename": "SyntaxError",
     "evalue": "invalid syntax (<ipython-input-10-ad8283fbf267>, line 11)",
     "output_type": "error",
     "traceback": [
      "\u001b[0;36m  File \u001b[0;32m\"<ipython-input-10-ad8283fbf267>\"\u001b[0;36m, line \u001b[0;32m11\u001b[0m\n\u001b[0;31m    z =\u001b[0m\n\u001b[0m        ^\u001b[0m\n\u001b[0;31mSyntaxError\u001b[0m\u001b[0;31m:\u001b[0m invalid syntax\n"
     ]
    }
   ],
   "source": [
    "import matplotlib.pyplot as plt\n",
    "import numpy as np\n",
    "from scipy.stats import norm\n",
    "\n",
    "\n",
    "x_min = -5.0\n",
    "x_max = 5.0\n",
    "\n",
    "#z represents a variable following a standard normal distribution\n",
    "#here we assign a variable z's value to 2.00. \n",
    "z = \n",
    "\n",
    "mean = 0 \n",
    "std_dev = 1.0\n",
    "\n",
    "#calculate the proportion with the normalcdf function\n",
    "proportion = norm.cdf(z,mean,std_dev) \n",
    "#output proportion to the console \n",
    "print ( \"The proportion that is less than z = \"+ str(z) + \" is approximatley \" + str( round(proportion, 4) ) )\n",
    "\n",
    "# Plots normal distribution curve\n",
    "x = np.linspace(x_min, x_max, 200) \n",
    "y = norm.pdf(x, mean, std_dev)\n",
    "plt.plot(x,y, color='purple')\n",
    "plt.grid()\n",
    "plt.xlim(x_min,x_max)\n",
    "plt.ylim(0,.5)\n",
    "\n",
    "\n",
    "# Shades the portion of the plot under the curve \n",
    "start_pt = x_min\n",
    "end_pt = z\n",
    "\n",
    "plt.plot([start_pt ,start_pt ],[0.0,norm.pdf(start_pt, mean, std_dev)], color='purple')\n",
    "plt.plot([end_pt ,end_pt ],[0.0,norm.pdf(end_pt, mean, std_dev)], color='purple')\n",
    "\n",
    "ptx = np.linspace(start_pt, end_pt, 200)\n",
    "pty = norm.pdf(ptx,mean,std_dev)\n",
    "\n",
    "plt.fill_between(ptx, pty, color='purple', alpha='1.0')\n",
    "\n",
    "plt.show()"
   ]
  },
  {
   "cell_type": "code",
   "execution_count": 9,
   "metadata": {},
   "outputs": [
    {
     "data": {
      "application/vnd.jupyter.widget-view+json": {
       "model_id": "318bf67ab26d4c099127af0e29ada532",
       "version_major": 2,
       "version_minor": 0
      },
      "text/plain": [
       "RadioButtons(description='What is a variable?', index=1, options=('.02', '0.9772', '.889', '.999'), value='0.9…"
      ]
     },
     "metadata": {},
     "output_type": "display_data"
    }
   ],
   "source": [
    "import ipywidgets as widgets\n",
    "\n",
    "widgets.RadioButtons(\n",
    "        options=['.02', '0.9772', '.889', '.999'],\n",
    "     value='0.9772',\n",
    "    description='What is the proportion that is less than z=2.00?',\n",
    "    disabled=False\n",
    ")\n",
    "\n",
    "widgets.RadioButtons(\n",
    "        options=['.02', '0.9772', '.889', '.999'],\n",
    "     value='0.9772',\n",
    "    description='What is a variable?',\n",
    "    disabled=False\n",
    ")"
   ]
  },
  {
   "cell_type": "code",
   "execution_count": null,
   "metadata": {},
   "outputs": [],
   "source": []
  }
 ],
 "metadata": {
  "celltoolbar": "Edit Metadata",
  "kernelspec": {
   "display_name": "Python 3",
   "language": "python",
   "name": "python3"
  },
  "language_info": {
   "codemirror_mode": {
    "name": "ipython",
    "version": 3
   },
   "file_extension": ".py",
   "mimetype": "text/x-python",
   "name": "python",
   "nbconvert_exporter": "python",
   "pygments_lexer": "ipython3",
   "version": "3.6.2"
  }
 },
 "nbformat": 4,
 "nbformat_minor": 2
}
