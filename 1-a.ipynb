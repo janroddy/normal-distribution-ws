{
 "cells": [
  {
   "cell_type": "markdown",
   "metadata": {
    "deletable": false
   },
   "source": [
    "<h1 style= padding:10px> WORKSHEET - NORMAL DISTRIBUTIONS </h1>\n",
    "\n",
    "<h2 style= padding: 20px> 1. For each problem plot the normal curve with shaded area you have to find.  Let z represent a variable following a standard normal distribution. </h2> \n",
    "\n",
    "\n",
    "<div style=\"background-color: #BCDBF5 ; padding: 10px; border: 1px solid;\">\n",
    "<h2>Instructions:</h2>\n",
    "\n",
    "<ol>\n",
    "  <li>This box is a called a cell, you can double click on this cell this will change the way the text looks in the cell.  To run the code in the box click on the Run button (located in the toolbar at the top of the page). </li>\n",
    "  <li>These instruction cells will tell you what to do in the following python code cells. Run the next cell following this one and see what happens. </li>\n",
    "  <li>Change the text within the quotes (\"\") part of the cell to \"Hello Python\" and see what happens when you run the cell again.  This is called a print statement in Python and it outputs text to the console. We will be using print statements to output our answers in this worksheet</li>\n",
    "  <li>Click into the cell starts with (a) to continue </li>\n",
    "</ol>\n",
    "\n",
    "</div>\n",
    "\n"
   ]
  },
  {
   "cell_type": "code",
   "execution_count": 2,
   "metadata": {
    "scrolled": true
   },
   "outputs": [
    {
     "name": "stdout",
     "output_type": "stream",
     "text": [
      "Hello Distributions\n"
     ]
    }
   ],
   "source": [
    "print (\"Hello Distributions\")"
   ]
  },
  {
   "cell_type": "markdown",
   "metadata": {
    "deletable": false
   },
   "source": [
    "<h2 style=padding:20px>(a) Find the proportion that is less than z=2.00</h2>\n",
    "\n",
    "<div style=\"background-color: #BCDBF5 ; padding: 10px; border: 1px solid;\">\n",
    "<h2>Instructions:</h2>\n",
    "\n",
    "<ol>\n",
    "    <li> Run the next cell (the one with the python code in it right below this cell) by clicking on the cell and then clicking on the Run button at the top of the page </li>\n",
    "    <li> Scroll to the bottom of the cell and see the output of the code and plot produced.</li>   \n",
    "    <li> Reread the question we are answering and think about how the output answers our question </li> \n",
    "        <li> Discuss with your partner what the output looks like and how it answers the question you were asked</li> \n",
    "    <li> Go to the next cell of instructions starting with \"Let's try (a) Again\"</li> \n",
    "</ol>\n",
    "\n",
    "</div>"
   ]
  },
  {
   "cell_type": "code",
   "execution_count": 3,
   "metadata": {
    "scrolled": true
   },
   "outputs": [
    {
     "name": "stdout",
     "output_type": "stream",
     "text": [
      "The proportion that is less than z = 2.0 is approximatley 0.9772\n"
     ]
    },
    {
     "data": {
      "text/plain": [
       "<Figure size 640x480 with 1 Axes>"
      ]
     },
     "metadata": {},
     "output_type": "display_data"
    }
   ],
   "source": [
    "import matplotlib.pyplot as plt\n",
    "import numpy as np\n",
    "from scipy.stats import norm\n",
    "\n",
    "\n",
    "x_min = -5.0\n",
    "x_max = 5.0\n",
    "\n",
    "#z represents a variable following a standard normal distribution\n",
    "#here we assign a variable z's value to 2.00. \n",
    "z = 2.00\n",
    "\n",
    "mean = 0 \n",
    "std_dev = 1.0\n",
    "\n",
    "#calculate the proportion with the normalcdf function\n",
    "proportion = norm.cdf(z,mean,std_dev) \n",
    "#output proportion to the console \n",
    "print ( \"The proportion that is less than z = \"+ str(z) + \" is approximatley \" + str( round(proportion, 4) ) )\n",
    "\n",
    "# Plots normal distribution curve\n",
    "x = np.linspace(x_min, x_max, 200) \n",
    "y = norm.pdf(x, mean, std_dev)\n",
    "plt.plot(x,y, color='purple')\n",
    "plt.grid()\n",
    "plt.xlim(x_min,x_max)\n",
    "plt.ylim(0,.5)\n",
    "\n",
    "\n",
    "# Shades the portion of the plot under the curve \n",
    "start_pt = x_min\n",
    "end_pt = z\n",
    "\n",
    "plt.plot([start_pt ,start_pt ],[0.0,norm.pdf(start_pt, mean, std_dev)], color='purple')\n",
    "plt.plot([end_pt ,end_pt ],[0.0,norm.pdf(end_pt, mean, std_dev)], color='purple')\n",
    "\n",
    "ptx = np.linspace(start_pt, end_pt, 200)\n",
    "pty = norm.pdf(ptx,mean,std_dev)\n",
    "\n",
    "plt.fill_between(ptx, pty, color='purple', alpha='1.0')\n",
    "\n",
    "plt.show()"
   ]
  },
  {
   "cell_type": "markdown",
   "metadata": {},
   "source": [
    "<h2 style=padding:10px>Lets try (a) Again: </h2>\n",
    "<h2 style=padding:20px>(a) Find the proportion that is less than z=2.00</h2>\n",
    "\n",
    "<div style=\"background-color: #BCDBF5 ; padding: 10px; border: 1px solid;\">\n",
    "<h2>Instructions:</h2>\n",
    "\n",
    "<ol>\n",
    "    <li>  This time we are going to look at the same question again and also take a look at the python code we are running.  </li>\n",
    "    <li> Run the cell below these instructions.</li>   \n",
    "    <li>Scroll to the bottom of the cell and read the output of the console.  This is called an error message and it is telling you that the python interpretor can't process the code. </li> \n",
    "    <li>Let's fix it! Go to line 11 in the python code cell and change the line \"z = \"to \"z = 2.0\" (Note: Don't write the quotes)</li>\n",
    "    <li>After making the change run the cell again and see what happens. </li> \n",
    "    <li>We just assigned our variable z to equal 2.0.  A variable can be thought of as container (z) storing a value (2.0).</li> \n",
    "    <li>We can now use z when we calculate the proportion with our cdf function.  Take a look at line 17 where we calculate the proportion.  </li>\n",
    "    <li> Discuss with your partner what you see and where we are using our variable z in the code </li>\n",
    "</ol>\n",
    "\n",
    "</div>\n"
   ]
  },
  {
   "cell_type": "code",
   "execution_count": 4,
   "metadata": {},
   "outputs": [
    {
     "ename": "SyntaxError",
     "evalue": "invalid syntax (<ipython-input-4-ad8283fbf267>, line 11)",
     "output_type": "error",
     "traceback": [
      "\u001b[0;36m  File \u001b[0;32m\"<ipython-input-4-ad8283fbf267>\"\u001b[0;36m, line \u001b[0;32m11\u001b[0m\n\u001b[0;31m    z =\u001b[0m\n\u001b[0m        ^\u001b[0m\n\u001b[0;31mSyntaxError\u001b[0m\u001b[0;31m:\u001b[0m invalid syntax\n"
     ]
    }
   ],
   "source": [
    "import matplotlib.pyplot as plt\n",
    "import numpy as np\n",
    "from scipy.stats import norm\n",
    "\n",
    "\n",
    "x_min = -5.0\n",
    "x_max = 5.0\n",
    "\n",
    "#z represents a variable following a standard normal distribution\n",
    "#here we assign a variable z's value to 2.00. \n",
    "z = \n",
    "\n",
    "mean = 0 \n",
    "std_dev = 1.0\n",
    "\n",
    "#calculate the proportion with the normalcdf function\n",
    "proportion = norm.cdf(z,mean,std_dev) \n",
    "#output proportion to the console \n",
    "print ( \"The proportion that is less than z = \"+ str(z) + \" is approximatley \" + str( round(proportion, 4) ) )\n",
    "\n",
    "# Plots normal distribution curve\n",
    "x = np.linspace(x_min, x_max, 200) \n",
    "y = norm.pdf(x, mean, std_dev)\n",
    "plt.plot(x,y, color='purple')\n",
    "plt.grid()\n",
    "plt.xlim(x_min,x_max)\n",
    "plt.ylim(0,.5)\n",
    "\n",
    "\n",
    "# Shades the portion of the plot under the curve \n",
    "start_pt = x_min\n",
    "end_pt = z\n",
    "\n",
    "plt.plot([start_pt ,start_pt ],[0.0,norm.pdf(start_pt, mean, std_dev)], color='purple')\n",
    "plt.plot([end_pt ,end_pt ],[0.0,norm.pdf(end_pt, mean, std_dev)], color='purple')\n",
    "\n",
    "ptx = np.linspace(start_pt, end_pt, 200)\n",
    "pty = norm.pdf(ptx,mean,std_dev)\n",
    "\n",
    "plt.fill_between(ptx, pty, color='purple', alpha='1.0')\n",
    "\n",
    "plt.show()"
   ]
  },
  {
   "cell_type": "markdown",
   "metadata": {},
   "source": [
    "To go to the next problem Click -> [1-b](1-b.ipynb)"
   ]
  }
 ],
 "metadata": {
  "celltoolbar": "Edit Metadata",
  "kernelspec": {
   "display_name": "Python 3",
   "language": "python",
   "name": "python3"
  },
  "language_info": {
   "codemirror_mode": {
    "name": "ipython",
    "version": 3
   },
   "file_extension": ".py",
   "mimetype": "text/x-python",
   "name": "python",
   "nbconvert_exporter": "python",
   "pygments_lexer": "ipython3",
   "version": "3.6.2"
  }
 },
 "nbformat": 4,
 "nbformat_minor": 2
}
