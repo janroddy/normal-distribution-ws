{
 "cells": [
  {
   "cell_type": "markdown",
   "metadata": {},
   "source": [
    "## 4. The BMI for males age 20 to 74 follows approximately a normal distribution with mean=27.9 and standard deviation = 7.8 Use the 68-95-99.7 rule to find"
   ]
  },
  {
   "cell_type": "markdown",
   "metadata": {},
   "source": [
    "## (a) the percentage of males with BMI less than 20.1"
   ]
  },
  {
   "cell_type": "markdown",
   "metadata": {},
   "source": [
    "<div style=\"background-color: #BCDBF5 ; padding: 10px\">\n",
    "  <h2>Instructions:</h2>\n",
    "\n",
    "  <ol>\n",
    "    <li>Fill in mean, std_dev and z_score.</li>\n",
    "    <li>Solve for percentage on line 20 based on the 68-95-99.7 rule</li>\n",
    "\n",
    "  </ol>\n",
    "</div>\n"
   ]
  },
  {
   "cell_type": "code",
   "execution_count": 3,
   "metadata": {},
   "outputs": [
    {
     "ename": "SyntaxError",
     "evalue": "invalid syntax (<ipython-input-3-87e86b4879ff>, line 10)",
     "output_type": "error",
     "traceback": [
      "\u001b[0;36m  File \u001b[0;32m\"<ipython-input-3-87e86b4879ff>\"\u001b[0;36m, line \u001b[0;32m10\u001b[0m\n\u001b[0;31m    mean =\u001b[0m\n\u001b[0m           ^\u001b[0m\n\u001b[0;31mSyntaxError\u001b[0m\u001b[0;31m:\u001b[0m invalid syntax\n"
     ]
    }
   ],
   "source": [
    "import matplotlib.pyplot as plt\n",
    "import numpy as np\n",
    "from scipy.stats import norm\n",
    "\n",
    "\n",
    "x_min = 4.5 #27.9 - 7.8 * 3\n",
    "x_max = 51.3 #27.9 + 7.8 * 3\n",
    "\n",
    "#STUDENT PART fill in valiues\n",
    "mean = \n",
    "std_dev = \n",
    "\n",
    "#calculate the z-score here STUDENT PART\n",
    "z_score = \n",
    "\n",
    "#output z-score to the console \n",
    "print ( \"The z-score is %.2f\" % z_score)\n",
    "\n",
    "#student solves for percentage STUDENT PART fill in based 68-95-99.7 rule \n",
    "percentage = \n",
    "\n",
    "#output percentage to the console \n",
    "print (\"The percentage of males with BMI less than 20.1 is %.2f\" % percentage)\n",
    "\n",
    "\n",
    "# Plots normal distribution curve\n",
    "x = np.linspace(x_min, x_max, 200) \n",
    "y = norm.pdf(x, mean, std_dev)\n",
    "plt.plot(x,y, color='purple')\n",
    "plt.grid()\n",
    "plt.xlim(x_min,x_max)\n",
    "plt.ylim(0,.075)\n",
    "\n",
    "\n",
    "# Shades the portion of the plot under the curve STUDENT PART\n",
    "start_pt = 27.9 -7.8\n",
    "end_pt = 27.9 +7.8\n",
    "\n",
    "plt.plot([start_pt ,start_pt ],[0.0,norm.pdf(start_pt, mean, std_dev)], color='purple')\n",
    "plt.plot([end_pt ,end_pt ],[0.0,norm.pdf(end_pt, mean, std_dev)], color='purple')\n",
    "\n",
    "ptx = np.linspace(start_pt, end_pt, 200)\n",
    "pty = norm.pdf(ptx,mean,std_dev)\n",
    "\n",
    "plt.fill_between(ptx, pty, color='purple', alpha='1.0')\n",
    "plt.rcParams['figure.figsize'] = [10, 5]\n",
    "plt.show()"
   ]
  },
  {
   "cell_type": "markdown",
   "metadata": {},
   "source": [
    "## (b) the percentage of males with BMI greater than 12.3 "
   ]
  },
  {
   "cell_type": "markdown",
   "metadata": {},
   "source": [
    "<div style=\"background-color: #BCDBF5 ; padding: 10px\">\n",
    "  <h2>Instructions:</h2>\n",
    "\n",
    "  <ol>\n",
    "    <li>Solve for percentage on line 20 based on the 68-95-99.7 rule</li>\n",
    "\n",
    "  </ol>\n",
    "</div>"
   ]
  },
  {
   "cell_type": "code",
   "execution_count": 5,
   "metadata": {},
   "outputs": [
    {
     "ename": "SyntaxError",
     "evalue": "invalid syntax (<ipython-input-5-64ca0416b3bc>, line 19)",
     "output_type": "error",
     "traceback": [
      "\u001b[0;36m  File \u001b[0;32m\"<ipython-input-5-64ca0416b3bc>\"\u001b[0;36m, line \u001b[0;32m19\u001b[0m\n\u001b[0;31m    percentage =\u001b[0m\n\u001b[0m                 ^\u001b[0m\n\u001b[0;31mSyntaxError\u001b[0m\u001b[0;31m:\u001b[0m invalid syntax\n"
     ]
    }
   ],
   "source": [
    "import matplotlib.pyplot as plt\n",
    "import numpy as np\n",
    "from scipy.stats import norm\n",
    "\n",
    "x_min = 4.5 #27.9 - 7.8 * 3\n",
    "x_max = 51.3 #27.9 + 7.8 * 3\n",
    "\n",
    "#STUDENT PART fill in valiues\n",
    "mean = 27.9\n",
    "std_dev = 7.8\n",
    "\n",
    "#calculate the z-score here STUDENT PART\n",
    "z_score = (12.3 - 27.9)/ 7.8 \n",
    "\n",
    "#output z-score to the console \n",
    "print ( \"The z-score is %.0f\" % z_score)\n",
    "\n",
    "#Solve for x_length STUDENT PART fill in based 68-95-99.7 rule\n",
    "percentage = \n",
    "print (\"The percentage of males with BMI greater than 12.3 is %.3f\" % percentage)\n",
    "\n",
    "\n",
    "# Plots normal distribution curve\n",
    "x = np.linspace(x_min, x_max, 200) \n",
    "y = norm.pdf(x, mean, std_dev)\n",
    "plt.plot(x,y, color='purple')\n",
    "plt.grid()\n",
    "plt.xlim(x_min,x_max)\n",
    "plt.ylim(0,.075)\n",
    "\n",
    "\n",
    "# Shades the portion of the plot under the curve STUDENT PART\n",
    "start_pt = 27.9 - 7.8 * 2\n",
    "end_pt = 27.9 + 7.8 * 2\n",
    "\n",
    "plt.plot([start_pt ,start_pt ],[0.0,norm.pdf(start_pt, mean, std_dev)], color='purple')\n",
    "plt.plot([end_pt ,end_pt ],[0.0,norm.pdf(end_pt, mean, std_dev)], color='purple')\n",
    "\n",
    "ptx = np.linspace(start_pt, end_pt, 200)\n",
    "pty = norm.pdf(ptx,mean,std_dev)\n",
    "\n",
    "plt.fill_between(ptx, pty, color='purple', alpha='1.0')\n",
    "plt.rcParams['figure.figsize'] = [10, 5]\n",
    "plt.show()"
   ]
  },
  {
   "cell_type": "markdown",
   "metadata": {},
   "source": [
    "## (c) the BMI values that correspond to the middle 99.7% of the distribution.\n"
   ]
  },
  {
   "cell_type": "markdown",
   "metadata": {},
   "source": [
    "<div style=\"background-color: #BCDBF5 ; padding: 10px\">\n",
    "  <h2>Instructions:</h2>\n",
    "\n",
    "  <ol>\n",
    "    <li>Solve for x_low and x_high on lines 13 and 14 based on 68-95-99.7 rule</li>\n",
    "\n",
    "  </ol>\n",
    "</div>\n"
   ]
  },
  {
   "cell_type": "code",
   "execution_count": 6,
   "metadata": {},
   "outputs": [
    {
     "ename": "SyntaxError",
     "evalue": "invalid syntax (<ipython-input-6-225b75726b27>, line 13)",
     "output_type": "error",
     "traceback": [
      "\u001b[0;36m  File \u001b[0;32m\"<ipython-input-6-225b75726b27>\"\u001b[0;36m, line \u001b[0;32m13\u001b[0m\n\u001b[0;31m    x_low =\u001b[0m\n\u001b[0m            ^\u001b[0m\n\u001b[0;31mSyntaxError\u001b[0m\u001b[0;31m:\u001b[0m invalid syntax\n"
     ]
    }
   ],
   "source": [
    "import matplotlib.pyplot as plt\n",
    "import numpy as np\n",
    "from scipy.stats import norm\n",
    "\n",
    "\n",
    "x_min = 0 #27.9 - 7.8 * 3\n",
    "x_max = 55 #27.9 + 7.8 * 3\n",
    "\n",
    "#STUDENT PART fill in valiues\n",
    "mean = 27.9\n",
    "std_dev = 7.8\n",
    "\n",
    "x_low = \n",
    "x_high = \n",
    "\n",
    "\n",
    "#output z-score to the console \n",
    "print ( \"The BMI values that correspond to the middle 99.7 of the distribution are %.1f and %.1f \" % (x_low, x_high))\n",
    "\n",
    "\n",
    "\n",
    "# Plots normal distribution curve\n",
    "x = np.linspace(x_min, x_max, 200) \n",
    "y = norm.pdf(x, mean, std_dev)\n",
    "plt.plot(x,y, color='purple')\n",
    "plt.grid()\n",
    "plt.xlim(x_min,x_max)\n",
    "plt.ylim(0,.075)\n",
    "\n",
    "\n",
    "# Shades the portion of the plot under the curve STUDENT PART\n",
    "start_pt = x_low\n",
    "end_pt = x_high\n",
    "\n",
    "plt.plot([start_pt ,start_pt ],[0.0,norm.pdf(start_pt, mean, std_dev)], color='purple')\n",
    "plt.plot([end_pt ,end_pt ],[0.0,norm.pdf(end_pt, mean, std_dev)], color='purple')\n",
    "\n",
    "ptx = np.linspace(start_pt, end_pt, 200)\n",
    "pty = norm.pdf(ptx,mean,std_dev)\n",
    "\n",
    "plt.fill_between(ptx, pty, color='purple', alpha='1.0')\n",
    "plt.rcParams['figure.figsize'] = [10, 5]\n",
    "plt.show()"
   ]
  },
  {
   "cell_type": "markdown",
   "metadata": {},
   "source": [
    "## (d) the value such that 0.15% of males have BMI's greater than the value"
   ]
  },
  {
   "cell_type": "markdown",
   "metadata": {},
   "source": [
    "<div style=\"background-color: #BCDBF5 ; padding: 10px\">\n",
    "  <h2>Instructions:</h2>\n",
    "\n",
    "  <ol>\n",
    "    <li>Solve for x_value on lines 13 based on 68-95-99.7 rule</li>\n",
    "  </ol>\n",
    "</div>\n",
    "\n"
   ]
  },
  {
   "cell_type": "code",
   "execution_count": 7,
   "metadata": {},
   "outputs": [
    {
     "ename": "SyntaxError",
     "evalue": "invalid syntax (<ipython-input-7-b37d5cff3d97>, line 13)",
     "output_type": "error",
     "traceback": [
      "\u001b[0;36m  File \u001b[0;32m\"<ipython-input-7-b37d5cff3d97>\"\u001b[0;36m, line \u001b[0;32m13\u001b[0m\n\u001b[0;31m    x_value =\u001b[0m\n\u001b[0m              ^\u001b[0m\n\u001b[0;31mSyntaxError\u001b[0m\u001b[0;31m:\u001b[0m invalid syntax\n"
     ]
    }
   ],
   "source": [
    "import matplotlib.pyplot as plt\n",
    "import numpy as np\n",
    "from scipy.stats import norm\n",
    "\n",
    "\n",
    "x_min = 0\n",
    "x_max = 55 \n",
    "\n",
    "mean = 27.9\n",
    "std_dev = 7.8\n",
    "\n",
    "#STUDENT PART \n",
    "x_value = \n",
    "\n",
    "\n",
    "#output z-score to the console \n",
    "print ( \"The value such that 0.15 percent of males have a BMI greater than the value %.1f \" % (x_value))\n",
    "\n",
    "\n",
    "\n",
    "# Plots normal distribution curve\n",
    "x = np.linspace(x_min, x_max, 200) \n",
    "y = norm.pdf(x, mean, std_dev)\n",
    "plt.plot(x,y, color='purple')\n",
    "#plt.grid()\n",
    "plt.xlim(x_min,x_max)\n",
    "plt.ylim(0,.075)\n",
    "\n",
    "\n",
    "# Shades the portion of the plot under the curve STUDENT PART\n",
    "start_pt = x_low\n",
    "end_pt = x_value\n",
    "plt.plot([start_pt ,start_pt ],[0.0,norm.pdf(start_pt, mean, std_dev)], color='purple')\n",
    "plt.plot([end_pt ,end_pt ],[0.0,norm.pdf(end_pt, mean, std_dev)], color='purple')\n",
    "\n",
    "ptx = np.linspace(start_pt, end_pt, 200)\n",
    "pty = norm.pdf(ptx,mean,std_dev)\n",
    "\n",
    "plt.fill_between(ptx, pty, color='purple', alpha='1.0')\n",
    "plt.rcParams['figure.figsize'] = [10, 5]\n",
    "plt.show()"
   ]
  }
 ],
 "metadata": {
  "kernelspec": {
   "display_name": "Python 3",
   "language": "python",
   "name": "python3"
  },
  "language_info": {
   "codemirror_mode": {
    "name": "ipython",
    "version": 3
   },
   "file_extension": ".py",
   "mimetype": "text/x-python",
   "name": "python",
   "nbconvert_exporter": "python",
   "pygments_lexer": "ipython3",
   "version": "3.6.2"
  }
 },
 "nbformat": 4,
 "nbformat_minor": 2
}
