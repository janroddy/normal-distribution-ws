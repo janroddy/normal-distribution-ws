{
 "cells": [
  {
   "cell_type": "markdown",
   "metadata": {},
   "source": [
    "# WORKSHEET - NORMAL DISTRIBUTIONS \n",
    "\n",
    "## 1. For each problem plot the normal curve with shaded area you have to find.  Let z represent a variable following a standard normal distribution. \n",
    "\n"
   ]
  },
  {
   "cell_type": "markdown",
   "metadata": {},
   "source": [
    "## (b) Find the proportion that is between z=-.13 and z=1.75 \n",
    "##  Instructions: \n",
    "1. Let’s assign some more variables in the code. Go to line's 11 and 12.  Fill in z_lower and z_upper values with -.13 and 1.75.  \n",
    "2. Go to line's 14 and 15 and fill in mean and std_dev with 0.0 and 1.0. \n",
    "3. Run the cell.  What happens? \n",
    "4. Change line 28's “ color = 'purple’ ”  to “ color = 'blue’ ” and run the cell again, what happens to the plot? Functions can take arguments which can change the output of the function.  In this case, the plt.plot() function takes 3 arguments x, y, and color=‘blue’.   "
   ]
  },
  {
   "cell_type": "code",
   "execution_count": 2,
   "metadata": {},
   "outputs": [
    {
     "name": "stdout",
     "output_type": "stream",
     "text": [
      "The proportion that is between z = 1.86 and 5.0 is approximatley 0.0314\n"
     ]
    },
    {
     "data": {
      "image/png": "[encoded data removed]",
      "text/plain": [
       "<Figure size 432x288 with 1 Axes>"
      ]
     },
     "metadata": {
      "needs_background": "light"
     },
     "output_type": "display_data"
    }
   ],
   "source": [
    "import matplotlib.pyplot as plt\n",
    "import numpy as np\n",
    "from scipy.stats import norm\n",
    "\n",
    "\n",
    "x_min = -5.0\n",
    "x_max = 5.0\n",
    "\n",
    "#z_upper and lower represent variables following a standard normal distribution\n",
    "#STUDENT PART: assign a variable z_lower's value and z_upper's value. ----------------------\n",
    "z_lower = \n",
    "z_upper = \n",
    "#STUDENT PART: assign mean and std_dev -----------------------\n",
    "mean = \n",
    "std_dev = \n",
    "\n",
    "#calculate the proportion with the normalcdf function of the interval of interest\n",
    "prop_lower = norm.cdf(z_lower,mean,std_dev) \n",
    "prop_upper = norm.cdf(z_upper,mean,std_dev) \n",
    "proportion = prop_upper - prop_lower\n",
    "#output calculated proportion of the range to the console \n",
    "print ( \"The proportion that is between z = \"+ str(z_lower) + \" and \" + str(z_upper) +\" is approximatley \"+ str( round(proportion, 4)) )\n",
    "\n",
    "# Plots normal distribution curve\n",
    "x = np.linspace(x_min, x_max, 200) \n",
    "y = norm.pdf(x, mean, std_dev)\n",
    "\n",
    "#STUDENT PART: change the color parameter of plot function to 'blue' (don't forget the single quotes around 'blue')\n",
    "plt.plot(x,y, color='purple')\n",
    "plt.grid()\n",
    "plt.xlim(x_min,x_max)\n",
    "plt.ylim(0,.5)\n",
    "\n",
    "# Shades the portion of the plot under the curve \n",
    "start_pt = z_lower\n",
    "end_pt = z_upper\n",
    "\n",
    "plt.plot([start_pt ,start_pt ],[0.0,norm.pdf(start_pt ,mean, std_dev)], color='purple')\n",
    "plt.plot([end_pt ,end_pt ],[0.0,norm.pdf(end_pt ,mean, std_dev)], color='purple')\n",
    "\n",
    "ptx = np.linspace(start_pt, end_pt, 200)\n",
    "pty = norm.pdf(ptx,mean,std_dev) \n",
    "\n",
    "\n",
    "plt.fill_between(ptx, pty, color='purple', alpha='1.0')\n",
    "\n",
    "plt.show()"
   ]
  },
  {
   "cell_type": "markdown",
   "metadata": {},
   "source": [
    "To go to the next problem Click -> [1-c](1-c.ipynb)"
   ]
  },
  {
   "cell_type": "code",
   "execution_count": null,
   "metadata": {},
   "outputs": [],
   "source": []
  }
 ],
 "metadata": {
  "kernelspec": {
   "display_name": "virt-env",
   "language": "python",
   "name": "virt-env"
  },
  "language_info": {
   "codemirror_mode": {
    "name": "ipython",
    "version": 3
   },
   "file_extension": ".py",
   "mimetype": "text/x-python",
   "name": "python",
   "nbconvert_exporter": "python",
   "pygments_lexer": "ipython3",
   "version": "3.7.4"
  }
 },
 "nbformat": 4,
 "nbformat_minor": 2
}
